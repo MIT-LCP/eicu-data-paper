{
 "cells": [
  {
   "cell_type": "markdown",
   "metadata": {},
   "source": [
    "# eICU Collaborative Research Database\n",
    "\n",
    "This notebook generates the tables and figures from the eICU Collaborative Research Database paper."
   ]
  },
  {
   "cell_type": "code",
   "execution_count": null,
   "metadata": {
    "collapsed": true
   },
   "outputs": [],
   "source": [
    "from __future__ import print_function\n",
    "\n",
    "# Import libraries\n",
    "import pandas as pd\n",
    "import numpy as np\n",
    "import psycopg2\n",
    "import matplotlib.pyplot as plt\n",
    "import os\n",
    "import tableone\n",
    "\n",
    "# print out pretty pandas dataframes\n",
    "from IPython.display import display, HTML\n",
    "\n",
    "from collections import OrderedDict"
   ]
  },
  {
   "cell_type": "code",
   "execution_count": null,
   "metadata": {
    "collapsed": true
   },
   "outputs": [],
   "source": [
    "# Plot settings\n",
    "%matplotlib inline\n",
    "plt.style.use('ggplot')\n",
    "fontsize = 20 # size for x and y ticks\n",
    "plt.rcParams['legend.fontsize'] = fontsize\n",
    "plt.rcParams.update({'font.size': fontsize})"
   ]
  },
  {
   "cell_type": "code",
   "execution_count": null,
   "metadata": {
    "collapsed": true
   },
   "outputs": [],
   "source": [
    "# Database config\n",
    "sqluser = 'postgres'\n",
    "dbname = 'eicu'\n",
    "schema_name = 'eicu_crd'\n",
    "sqlhost = 'localhost'\n",
    "sqlport = 5647\n"
   ]
  },
  {
   "cell_type": "code",
   "execution_count": null,
   "metadata": {
    "collapsed": false
   },
   "outputs": [],
   "source": [
    "# Connect to the database\n",
    "con = psycopg2.connect(dbname=dbname, user=sqluser, host=sqlhost, port=sqlport)\n",
    "query_schema = 'SET search_path to public,' + schema_name + ';'"
   ]
  },
  {
   "cell_type": "markdown",
   "metadata": {},
   "source": [
    "## Display list of tables"
   ]
  },
  {
   "cell_type": "code",
   "execution_count": null,
   "metadata": {
    "collapsed": true
   },
   "outputs": [],
   "source": [
    "query = \\\n",
    "\"\"\"\n",
    "SELECT tablename \n",
    "FROM pg_catalog.pg_tables \n",
    "WHERE schemaname like 'eicu_crd'\n",
    "ORDER BY tablename;\n",
    "\"\"\"\n",
    "\n",
    "list_of_tables = pd.read_sql_query(query,con)\n",
    "list_of_tables"
   ]
  },
  {
   "cell_type": "markdown",
   "metadata": {},
   "source": [
    "## Demographics"
   ]
  },
  {
   "cell_type": "code",
   "execution_count": null,
   "metadata": {
    "collapsed": false
   },
   "outputs": [],
   "source": [
    "query = query_schema + \\\n",
    "\"\"\"\n",
    "select\n",
    "    pt.PATIENTUNITSTAYID\n",
    "  , pt.patienthealthsystemstayid\n",
    "  , pt.uniquepid\n",
    "  , pt.hospitalid\n",
    "  , pt.wardid\n",
    "\n",
    "  -- **************************** --\n",
    "  -- ******* DEMOGRAPHICS ******* --\n",
    "  -- **************************** --\n",
    "  \n",
    "  -- patient features\n",
    "  , pt.gender\n",
    "  , pt.age\n",
    "  , case\n",
    "      when pt.age = '> 89' then 90\n",
    "      when pt.age = '' then NULL\n",
    "    else cast(pt.age as NUMERIC)\n",
    "    end as age_numeric\n",
    "  , pt.ethnicity\n",
    "\n",
    "  -- hospital level features\n",
    "  , hp.numbedscategory as hospital_size\n",
    "  , hp.teachingstatus as hospital_teaching_status\n",
    "  , hp.region as hospital_region\n",
    "  \n",
    "  -- patient hospital stay features\n",
    "  , (hospitaldischargeoffset - hospitaladmitoffset) / 60.0 / 24.0 as hospital_los\n",
    "  , pt.hospitaldischargelocation\n",
    "  , pt.hospitaldischargestatus -- 'Expired', 'Alive', ''\n",
    "  , apv.diedinhospital\n",
    "  \n",
    "  , pt.hospitaldischargeyear\n",
    "\n",
    "  -- ICU length of stay in days\n",
    "  , pt.unitdischargeoffset / 60.0 / 24.0 as unit_los\n",
    "  , pt.unittype\n",
    "  , pt.unitadmitsource\n",
    "  , pt.unitdischargelocation\n",
    "  , pt.unitdischargestatus\n",
    "\n",
    "  -- APACHE covariates for discharge location, etc\n",
    "  , apv.admitsource\n",
    "  , apv.dischargelocation\n",
    "  , apv.bedcount\n",
    "  , apv.readmit\n",
    "\n",
    "  -- APACHE IVa\n",
    "  , ag.apachedxgroup\n",
    "  , pt.apacheadmissiondx\n",
    "\n",
    "  -- apache comorbidities\n",
    "  , aav.dialysis\n",
    "  , apv.aids\n",
    "  , apv.hepaticfailure\n",
    "  , apv.cirrhosis\n",
    "  , apv.diabetes\n",
    "  , apv.immunosuppression\n",
    "  , apv.leukemia\n",
    "  , apv.lymphoma\n",
    "  , apv.metastaticcancer\n",
    "  , apv.thrombolytics\n",
    "\n",
    "  , pt.admissionheight -- height in cm\n",
    "  , pt.admissionweight -- weight in kg\n",
    "\n",
    "  -- ********************** --\n",
    "  -- *** APACHE APS VAR *** --\n",
    "  -- ********************** --\n",
    "\n",
    "  , aav.eyes\n",
    "  , aav.motor\n",
    "  , aav.verbal\n",
    "  , aav.eyes + aav.motor + aav.verbal as GCS\n",
    "  , aav.meds as UnableGCS\n",
    "  , aav.urine\n",
    "  , aav.pao2\n",
    "  , aav.fio2\n",
    "  , case when aav.pao2 = -1 or aav.fio2 = -1\n",
    "      then -1\n",
    "    else\n",
    "      aav.pao2 / aav.fio2 * 100\n",
    "    end as pao2fio2_apache\n",
    "\n",
    "\n",
    "  -- APACHE vital signs\n",
    "  , aav.temperature\n",
    "  , aav.respiratoryrate\n",
    "  , aav.heartrate\n",
    "  , aav.meanbp\n",
    "\n",
    "  -- APACHE labs\n",
    "  -- Noteably, APACHE does not include lactate, platelets, INR, WBC, or PTT\n",
    "  , aav.albumin\n",
    "  , aav.bilirubin\n",
    "  , aav.bun\n",
    "  , aav.creatinine\n",
    "  , aav.glucose\n",
    "  , aav.hematocrit\n",
    "  , aav.sodium\n",
    "  , aav.pco2\n",
    "  , aav.ph\n",
    "  , aav.intubated\n",
    "  , aav.wbc\n",
    "\n",
    "  -- *********************** --\n",
    "  -- *** APACHE PRED VAR *** --\n",
    "  -- *********************** --\n",
    "\n",
    "  -- Mechanical ventilation start and stop times are interfaced into\n",
    "  -- or documented directly into the respiratory flow sheet\n",
    "  -- or by updating the care plan in eCareManager.\n",
    "  -- however, we decided not to use flow sheet, but to use APACHE vent variable.\n",
    "\n",
    "  , apv.oobIntubDay1 as oobIntubDay1\n",
    "  , apv.oobVentDay1 as oobVentDay1\n",
    "  , apv.VENTDAY1 as VentDay1\n",
    "\n",
    "  -- APACHE PATIENT RESULT --\n",
    "  , apr.physicianSpeciality as physicianSpeciality\n",
    "  , apr.acutePhysiologyScore as acutePhysiologyScore\n",
    "  , apr.apacheScore as apacheScore\n",
    "  , apr.predictedICUMortality as predictedICUMortality\n",
    "  , apr.predictedICULOS as predictedICULOS\n",
    "  , apr.predictedHospitalMortality as predictedHospitalMortality\n",
    "  , apr.predictedHospitalLOS as predictedHospitalLOS\n",
    "  , apr.preopMI as preopMI\n",
    "  , apr.preopCardiacCath as preopCardiacCath\n",
    "  , apr.PTCAwithin24h as PTCAwithin24h\n",
    "  , apv.graftCount\n",
    "\n",
    "from patient pt\n",
    "left join hospital hp\n",
    "  on pt.hospitalid = hp.hospitalid\n",
    "left join apachepredvar apv\n",
    "  on pt.patientunitstayid = apv.patientunitstayid\n",
    "left join apacheapsvar aav\n",
    "  on pt.patientunitstayid = aav.patientunitstayid\n",
    "left join apachepatientresult apr\n",
    "  on pt.patientunitstayid = apr.patientunitstayid\n",
    "  and apr.apacheversion = 'IVa'\n",
    "left join apache_groups ag\n",
    "  on pt.patientunitstayid = ag.patientunitstayid\n",
    "\"\"\"\n",
    "\n",
    "df = pd.read_sql_query(query,con)"
   ]
  },
  {
   "cell_type": "code",
   "execution_count": null,
   "metadata": {
    "collapsed": false
   },
   "outputs": [],
   "source": [
    "# patient counts\n",
    "print('{:6d} unit stays.'.format(df['patientunitstayid'].nunique()))\n",
    "print('{:6d} hospital stays.'.format(df['patienthealthsystemstayid'].nunique()))\n",
    "print('{:6d} patients.'.format(df['uniquepid'].nunique()))\n",
    "print('{:6d} hospitals.'.format(df['hospitalid'].nunique()))\n",
    "print('{:6d} units (wards).'.format(df['wardid'].nunique()))"
   ]
  },
  {
   "cell_type": "code",
   "execution_count": null,
   "metadata": {
    "collapsed": true
   },
   "outputs": [],
   "source": [
    "# collapse some categories\n",
    "df['gender_grouped'] = df['gender']\n",
    "df.loc[ df['gender_grouped'] == 'Other', 'gender_grouped'] = 'Other or Unknown'\n",
    "df.loc[ df['gender_grouped'] == 'Unknown', 'gender_grouped'] = 'Other or Unknown'"
   ]
  },
  {
   "cell_type": "code",
   "execution_count": null,
   "metadata": {
    "collapsed": true
   },
   "outputs": [],
   "source": [
    "categorical = [u'gender_grouped',\n",
    "               u'ethnicity', u'hospital_size', u'hospital_teaching_status',\n",
    "               u'hospital_region', \n",
    "               u'hospitaldischargeyear',\n",
    "               u'unittype',\n",
    "               # don't include admit/disch locations\n",
    "               # u'unitadmitsource', u'unitdischargelocation',\n",
    "               # u'hospitaldischargelocation',\n",
    "               \n",
    "               #  below are from apache table\n",
    "               # u'admitsource', u'dischargelocation',\n",
    "               u'unitdischargestatus', \n",
    "               u'hospitaldischargestatus'\n",
    "               #u'readmit', \n",
    "               # too many categories\n",
    "               # u'apacheadmissiondx', u'physicianspeciality',\n",
    "               # below are infrequently documented\n",
    "               #u'preopmi', u'preopcardiaccath', u'ptcawithin24h', u'graftcount'\n",
    "              ]\n",
    "\n",
    "# columns we want to include\n",
    "columns = ['age_numeric'\n",
    "           , u'unit_los', u'hospital_los'\n",
    "           , u'diedinhospital'\n",
    "           , u'admissionheight', u'admissionweight'\n",
    "          ]"
   ]
  },
  {
   "cell_type": "code",
   "execution_count": null,
   "metadata": {
    "collapsed": true
   },
   "outputs": [],
   "source": [
    "# output these demographics to a markdown file\n",
    "t1 = tableone.TableOne(df, columns=columns, categorical=categorical,\n",
    "                       nonnormal=['age_numeric', 'unit_los', 'hospital_los'])\n",
    "t1.to_markdown('table-one-markdown.md')"
   ]
  },
  {
   "cell_type": "markdown",
   "metadata": {},
   "source": [
    "## Table of diagnoses"
   ]
  },
  {
   "cell_type": "code",
   "execution_count": null,
   "metadata": {
    "collapsed": true
   },
   "outputs": [],
   "source": [
    "# diagnoses\n",
    "idxKeep = (~df['predictedhospitalmortality'].isnull()) & (df['predictedhospitalmortality'] != '-1')\n",
    "\n",
    "t1dx = tableone.TableOne(df.loc[idxKeep,:], categorical=['apacheadmissiondx'])"
   ]
  },
  {
   "cell_type": "code",
   "execution_count": null,
   "metadata": {
    "collapsed": false
   },
   "outputs": [],
   "source": [
    "row"
   ]
  },
  {
   "cell_type": "code",
   "execution_count": null,
   "metadata": {
    "collapsed": false
   },
   "outputs": [],
   "source": [
    "# remove infrequent percent\n",
    "df_cat = t1dx._cat_describe['overall']['apacheadmissiondx']\n",
    "# want 10 diagnoses + 1 null diagnosis\n",
    "idxKeep = df_cat.sort_values('percent',ascending=False).index[0:11]\n",
    "df_cat = df_cat.loc[idxKeep,:]\n",
    "\n",
    "for i, row in df_cat.iterrows():\n",
    "    print('| {:40s} | {:5g} ({:3.2f}) |'.format(row.name, row['freq'], np.round(row['percent'],2)))"
   ]
  },
  {
   "cell_type": "markdown",
   "metadata": {},
   "source": [
    "## Table of APACHE diagnoses grouped by clinical meaning"
   ]
  },
  {
   "cell_type": "code",
   "execution_count": null,
   "metadata": {
    "collapsed": false
   },
   "outputs": [],
   "source": [
    "\n",
    "\n",
    "pretty_names = {'Sepsis': 'Sepsis'\n",
    ", 'CVA': 'Cerebrovascular accident'\n",
    ", 'CardiacArrest': 'Cardiac Arrest'\n",
    ", 'ACS': 'Acute Coronary Syndrome'\n",
    ", 'RespMedOther': 'Respiratory medicine'\n",
    ", 'GIBleed': 'Gastrointestinal Bleed'\n",
    ", 'Trauma': 'Congestive Heart Failure'\n",
    ", 'CHF': 'Trauma'\n",
    ", 'CABG': 'Coronary Artery Bypass Graft'\n",
    ", 'Neuro': 'Neurological'\n",
    ", 'PNA': 'Pneumonia'\n",
    ", 'DKA': 'Diabetic Ketoacidosis'\n",
    ", 'Overdose': 'Overdose'\n",
    ", 'Asthma-Emphys': 'Asthma/Emphysema'\n",
    ", 'CVOther': 'Other cardiovascular disease'\n",
    ", 'ValveDz': 'Valvular disorders'\n",
    ", 'Coma': 'Coma'\n",
    ", 'ARF': 'Acute renal failure'\n",
    ", 'GIObstruction': 'Gastrointestinal obstruction'\n",
    ", 'ChestPain': 'Chest Pain (unknown cause)'}\n",
    "\n",
    "# diagnoses for only patients with APACHE predictions\n",
    "idxKeep = (~df['predictedhospitalmortality'].isnull()) & (df['predictedhospitalmortality'] != '-1')\n",
    "\n",
    "df_adx = df.loc[idxKeep, ['patientunitstayid','apachedxgroup']].copy()\n",
    "df_adx['apachedxgroup'] = df_adx['apachedxgroup'].map(pretty_names)\n",
    "df_adx = df_adx.groupby('apachedxgroup').count()\n",
    "df_adx['%'] = np.round(df_adx['patientunitstayid']*100.0/(df_adx['patientunitstayid'].sum()),2)\n",
    "\n",
    "for i, row in df_adx.sort_values('%', ascending=False).iterrows():\n",
    "    print('| {:40s} | {:5g} ({:3.2f}) |'.format(row.name, row['patientunitstayid'], np.round(row['%'],2)))"
   ]
  },
  {
   "cell_type": "code",
   "execution_count": null,
   "metadata": {
    "collapsed": false
   },
   "outputs": [],
   "source": [
    "t1dx = tableone.TableOne(df.loc[idxKeep,:], categorical=['apachedxgroup'])\n",
    "print('{} - {} = {}'.format(200859, np.sum(idxKeep), 200859-np.sum(idxKeep)))\n",
    "print('Missing diagnosis for {} patients.'.format(np.sum( df.loc[idxKeep,'apacheadmissiondx'].isnull() )))\n",
    "t1dx"
   ]
  },
  {
   "cell_type": "code",
   "execution_count": null,
   "metadata": {
    "collapsed": false
   },
   "outputs": [],
   "source": [
    "# diagnoses for only patients with APACHE predictions\n",
    "idxKeep = (~df['predictedhospitalmortality'].isnull()) & (df['predictedhospitalmortality'] != '-1')\n",
    "t1dx = tableone.TableOne(df.loc[idxKeep,:], categorical=['apachedxgroup'])\n",
    "t1dx"
   ]
  },
  {
   "cell_type": "markdown",
   "metadata": {},
   "source": [
    "## Table of hospital stats"
   ]
  },
  {
   "cell_type": "code",
   "execution_count": null,
   "metadata": {
    "collapsed": false
   },
   "outputs": [],
   "source": [
    "query = query_schema + \\\n",
    "\"\"\"\n",
    "-- hospital level features\n",
    "select\n",
    "    hp.hospitalid\n",
    "  , hp.numbedscategory as hospital_size\n",
    "  , hp.teachingstatus as hospital_teaching_status\n",
    "  , hp.region as hospital_region\n",
    "  , count(distinct pt.patientunitstayid) as n_patients\n",
    "from hospital hp\n",
    "inner join patient pt\n",
    "  on hp.hospitalid = pt.hospitalid\n",
    "group by hp.hospitalid, hp.numbedscategory, hp.teachingstatus, hp.region\n",
    "\"\"\"\n",
    "\n",
    "df_hosp = pd.read_sql_query(query,con)\n",
    "\n",
    "# set null to unknown category so tableone uses desired format\n",
    "df_hosp['hospital_size'].fillna('Unknown',inplace=True)\n",
    "df_hosp['hospital_teaching_status'].fillna('Unknown',inplace=True)\n",
    "df_hosp['hospital_region'].fillna('Unknown',inplace=True)"
   ]
  },
  {
   "cell_type": "code",
   "execution_count": null,
   "metadata": {
    "collapsed": false
   },
   "outputs": [],
   "source": [
    "for h in ['hospital_size','hospital_teaching_status','hospital_region']:\n",
    "    grp = df_hosp.groupby(h)[['hospitalid','n_patients']].agg({'hospitalid': 'count', 'n_patients': 'sum'})\n",
    "    grp['hospitalid_%'] = np.round(grp['hospitalid'] / grp['hospitalid'].sum() * 100.0,2)\n",
    "    grp['n_patients_%'] = np.round(grp['n_patients'] / grp['n_patients'].sum() * 100.0,2)\n",
    "    display(HTML(grp[['hospitalid', 'hospitalid_%', 'n_patients','n_patients_%']].to_html()))"
   ]
  },
  {
   "cell_type": "code",
   "execution_count": null,
   "metadata": {
    "collapsed": true
   },
   "outputs": [],
   "source": [
    "query = query_schema + \\\n",
    "\"\"\"\n",
    "-- hospital level features\n",
    "select\n",
    "    hp.hospitalid\n",
    "  , hp.numbedscategory as hospital_size\n",
    "  , hp.teachingstatus as hospital_teaching_status\n",
    "  , hp.region as hospital_region\n",
    "  , count(distinct pt.patientunitstayid) as n_patients\n",
    "from hospital hp\n",
    "left join patient pt\n",
    "  on hp.hospitalid = pt.hospitalid\n",
    "group by hp.hospitalid, hp.numbedscategory, hp.teachingstatus, hp.region\n",
    "\"\"\"\n",
    "\n",
    "df_hosp = pd.read_sql_query(query,con)\n",
    "\n",
    "# set null to unknown category so tableone uses desired format\n",
    "df_hosp['hospital_size'].fillna('Unknown',inplace=True)\n",
    "df_hosp['hospital_teaching_status'].fillna('Unknown',inplace=True)\n",
    "df_hosp['hospital_region'].fillna('Unknown',inplace=True)"
   ]
  },
  {
   "cell_type": "markdown",
   "metadata": {},
   "source": [
    "## Information on top diagnoses/treatments"
   ]
  },
  {
   "cell_type": "code",
   "execution_count": null,
   "metadata": {
    "collapsed": true
   },
   "outputs": [],
   "source": [
    "# diagnoses\n",
    "query = query_schema + \\\n",
    "\"\"\"\n",
    "select diagnosisstring\n",
    ", count(distinct patientunitstayid) as numobs\n",
    "from diagnosis\n",
    "group by diagnosisstring\n",
    "order by numobs desc\n",
    "\"\"\"\n",
    "df_misc = pd.read_sql_query(query,con)\n",
    "\n",
    "df_misc['frac_pat'] = df_misc['numobs']/200859*100.0\n",
    "print('{} unique diagnoses.'.format(df_misc.shape))\n",
    "df_misc.head()"
   ]
  },
  {
   "cell_type": "code",
   "execution_count": null,
   "metadata": {
    "collapsed": true
   },
   "outputs": [],
   "source": [
    "# treatments\n",
    "query = query_schema + \\\n",
    "\"\"\"\n",
    "select treatmentstring\n",
    ", count(distinct patientunitstayid) as numobs\n",
    "from treatment\n",
    "group by treatmentstring\n",
    "order by numobs desc\n",
    "\"\"\"\n",
    "df_treat = pd.read_sql_query(query,con)\n",
    "\n",
    "df_treat['frac_pat'] = df_treat['numobs']/200859*100.0\n",
    "print('{} unique treatments.'.format(df_treat.shape))\n",
    "\n",
    "for i, row in df_treat.iterrows():\n",
    "    print('{:6g} ({:5.2f}) - {}'.format(\n",
    "            row['numobs'], row['frac_pat'], row['treatmentstring']))\n",
    "    if i>=5:\n",
    "        break"
   ]
  },
  {
   "cell_type": "markdown",
   "metadata": {},
   "source": [
    "## Table of top diagnosis groups"
   ]
  },
  {
   "cell_type": "code",
   "execution_count": null,
   "metadata": {
    "collapsed": true
   },
   "outputs": [],
   "source": [
    "# diagnosis groups\n",
    "query = query_schema + \\\n",
    "\"\"\"\n",
    "with t1 as\n",
    "(\n",
    "select substring(diagnosisstring,1,position('|' in diagnosisstring)-1) as dx\n",
    ", patientunitstayid\n",
    "from diagnosis\n",
    ")\n",
    "select dx, count(distinct patientunitstayid) as numpat\n",
    "from t1\n",
    "group by dx\n",
    "order by numpat desc\n",
    "\"\"\"\n",
    "df_dxgrp = pd.read_sql_query(query,con)\n",
    "\n",
    "df_dxgrp['frac_pat'] = df_misc['numobs']/200859*100.0\n",
    "df_dxgrp"
   ]
  },
  {
   "cell_type": "markdown",
   "metadata": {},
   "source": [
    "# Number of observations for vital tables"
   ]
  },
  {
   "cell_type": "code",
   "execution_count": null,
   "metadata": {
    "collapsed": true
   },
   "outputs": [],
   "source": [
    "query = query_schema + \\\n",
    "\"\"\"\n",
    "with t1 as\n",
    "(\n",
    "select patientunitstayid\n",
    ", count(heartrate) as heartrate\n",
    ", count(respiration) as respiration\n",
    ", count(sao2) as sao2\n",
    ", count(temperature) as temperature\n",
    ", count(cvp) as cvp\n",
    ", count(etco2) as etco2\n",
    ", count(systemicsystolic) as systemicsystolic\n",
    ", count(systemicdiastolic) as systemicdiastolic\n",
    ", count(systemicmean) as systemicmean\n",
    ", count(pasystolic) as pasystolic\n",
    ", count(padiastolic) as padiastolic\n",
    ", count(pamean) as pamean\n",
    ", count(st1) as st1\n",
    ", count(st2) as st2\n",
    ", count(st3) as st3\n",
    ", count(icp) as icp\n",
    "from vitalperiodic\n",
    "group by patientunitstayid\n",
    ")\n",
    "select\n",
    "  'patient count' as data_type\n",
    ", sum(case when heartrate > 0 then 1 else 0 end) as heartrate\n",
    ", sum(case when respiration > 0 then 1 else 0 end) as respiration\n",
    ", sum(case when sao2 > 0 then 1 else 0 end) as sao2\n",
    ", sum(case when temperature > 0 then 1 else 0 end) as temperature\n",
    ", sum(case when cvp > 0 then 1 else 0 end) as cvp\n",
    ", sum(case when etco2 > 0 then 1 else 0 end) as etco2\n",
    ", sum(case when systemicsystolic > 0 then 1 else 0 end) as systemicsystolic\n",
    ", sum(case when systemicdiastolic > 0 then 1 else 0 end) as systemicdiastolic\n",
    ", sum(case when systemicmean > 0 then 1 else 0 end) as systemicmean\n",
    ", sum(case when pasystolic > 0 then 1 else 0 end) as pasystolic\n",
    ", sum(case when padiastolic > 0 then 1 else 0 end) as padiastolic\n",
    ", sum(case when pamean > 0 then 1 else 0 end) as pamean\n",
    ", sum(case when st1 > 0 then 1 else 0 end) as st1\n",
    ", sum(case when st2 > 0 then 1 else 0 end) as st2\n",
    ", sum(case when st3 > 0 then 1 else 0 end) as st3\n",
    ", sum(case when icp > 0 then 1 else 0 end) as icp\n",
    "from t1\n",
    "UNION\n",
    "select\n",
    "  'observation count' as data_type\n",
    ", sum(heartrate)::numeric / sum(case when heartrate > 0 then 1 else 0 end) as heartrate\n",
    ", sum(respiration)::numeric / sum(case when respiration > 0 then 1 else 0 end) as respiration\n",
    ", sum(sao2)::numeric / sum(case when sao2 > 0 then 1 else 0 end) as sao2\n",
    ", sum(temperature)::numeric / sum(case when temperature > 0 then 1 else 0 end) as temperature\n",
    ", sum(cvp)::numeric / sum(case when cvp > 0 then 1 else 0 end) as cvp\n",
    ", sum(etco2)::numeric / sum(case when etco2 > 0 then 1 else 0 end) as etco2\n",
    ", sum(systemicsystolic)::numeric / sum(case when systemicsystolic > 0 then 1 else 0 end) as systemicsystolic\n",
    ", sum(systemicdiastolic)::numeric / sum(case when systemicdiastolic > 0 then 1 else 0 end) as systemicdiastolic\n",
    ", sum(systemicmean)::numeric / sum(case when systemicmean > 0 then 1 else 0 end) as systemicmean\n",
    ", sum(pasystolic)::numeric / sum(case when pasystolic > 0 then 1 else 0 end) as pasystolic\n",
    ", sum(padiastolic)::numeric / sum(case when padiastolic > 0 then 1 else 0 end) as padiastolic\n",
    ", sum(pamean)::numeric / sum(case when pamean > 0 then 1 else 0 end) as pamean\n",
    ", sum(st1)::numeric / sum(case when st1 > 0 then 1 else 0 end) as st1\n",
    ", sum(st2)::numeric / sum(case when st2 > 0 then 1 else 0 end) as st2\n",
    ", sum(st3)::numeric / sum(case when st3 > 0 then 1 else 0 end) as st3\n",
    ", sum(icp)::numeric / sum(case when icp > 0 then 1 else 0 end) as icp\n",
    "from t1;\n",
    "\"\"\"\n",
    "df_vp = pd.read_sql_query(query,con)\n",
    "df_vp.set_index('data_type',inplace=True)\n"
   ]
  },
  {
   "cell_type": "code",
   "execution_count": null,
   "metadata": {
    "collapsed": false
   },
   "outputs": [],
   "source": [
    "df_vp.columns"
   ]
  },
  {
   "cell_type": "code",
   "execution_count": null,
   "metadata": {
    "collapsed": false
   },
   "outputs": [],
   "source": [
    "pretty_labels = {'heartrate': 'Heart rate'\n",
    ", 'respiration': 'Respiration rate'\n",
    ", 'sao2': 'Peripheral oxygen saturation'\n",
    ", 'temperature': 'Temperature'\n",
    ", 'cvp': 'Central venous pressure'\n",
    ", 'etco2': 'End tidal carbon dioxide concentration'\n",
    ", 'systemicsystolic': 'Invasive systolic blood pressure'\n",
    ", 'systemicdiastolic': 'Invasive diastolic blood pressure'\n",
    ", 'systemicmean': 'Invasive mean blood pressure'\n",
    ", 'pasystolic': 'Systolic pulmonary artery pressure'\n",
    ", 'padiastolic': 'Diastolic pulmonary artery pressure'\n",
    ", 'pamean': 'Mean pulmonary artery pressure'\n",
    ", 'st1': 'ST level'\n",
    ", 'st2': 'ST level'\n",
    ", 'st3': 'ST level'\n",
    ", 'icp': 'Intracranial pressure'}\n",
    "\n",
    "df_vp.sort_values('patient count',axis=1,ascending=False,inplace=True)\n",
    "\n",
    "for c in df_vp.columns:\n",
    "    if c != 'data_type':\n",
    "        print('| {:40s}'.format(pretty_labels[c]), end=' | ')\n",
    "        print('{:18s}'.format(c),end=' | ')\n",
    "        print('{:6g} ({:3.2f}%)'.format(\n",
    "                df_vp.loc['patient count',c],\n",
    "                df_vp.loc['patient count',c].astype(float)/200859*100.0),\n",
    "              end=' | ')\n",
    "        print('{:,d} ({:3.1f})'.format((df_vp.loc['observation count',c]*df_vp.loc['patient count',c]).astype(int),\n",
    "                               df_vp.loc['observation count',c]),\n",
    "              end='\\n')"
   ]
  },
  {
   "cell_type": "code",
   "execution_count": null,
   "metadata": {
    "collapsed": true
   },
   "outputs": [],
   "source": [
    "# vital aperiodic\n",
    "query = query_schema + \\\n",
    "\"\"\"\n",
    "with t1 as\n",
    "(\n",
    "select patientunitstayid\n",
    ", count(noninvasivesystolic) as noninvasivesystolic\n",
    ", count(noninvasivediastolic) as noninvasivediastolic\n",
    ", count(noninvasivemean) as noninvasivemean\n",
    ", count(paop) as paop\n",
    ", count(cardiacoutput) as cardiacoutput\n",
    ", count(cardiacinput) as cardiacinput\n",
    ", count(svr) as svr\n",
    ", count(svri) as svri\n",
    ", count(pvr) as pvr\n",
    ", count(pvri) as pvri\n",
    "from vitalaperiodic\n",
    "group by patientunitstayid\n",
    ")\n",
    "select\n",
    "  sum(case when noninvasivesystolic > 0 then 1 else 0 end) as noninvasivesystolic\n",
    ", sum(case when noninvasivediastolic > 0 then 1 else 0 end) as noninvasivediastolic\n",
    ", sum(case when noninvasivemean > 0 then 1 else 0 end) as noninvasivemean\n",
    ", sum(case when paop > 0 then 1 else 0 end) as paop\n",
    ", sum(case when cardiacoutput > 0 then 1 else 0 end) as cardiacoutput\n",
    ", sum(case when cardiacinput > 0 then 1 else 0 end) as cardiacinput\n",
    ", sum(case when svr > 0 then 1 else 0 end) as svr\n",
    ", sum(case when svri > 0 then 1 else 0 end) as svri\n",
    ", sum(case when pvr > 0 then 1 else 0 end) as pvr\n",
    ", sum(case when pvri > 0 then 1 else 0 end) as pvri\n",
    "from t1;\n",
    "\"\"\"\n",
    "df_vap = pd.read_sql_query(query,con)"
   ]
  },
  {
   "cell_type": "code",
   "execution_count": null,
   "metadata": {
    "collapsed": true
   },
   "outputs": [],
   "source": [
    "for c in df_vap.columns:\n",
    "    print('{:6g} ({:5.2f}%) - {}'.format(\n",
    "            df_vap.loc[0,c],\n",
    "            df_vap.loc[0,c].astype(float)/200859*100.0,\n",
    "            c))"
   ]
  },
  {
   "cell_type": "markdown",
   "metadata": {},
   "source": [
    "## Number of distinct laboratory measurements per patient"
   ]
  },
  {
   "cell_type": "code",
   "execution_count": null,
   "metadata": {
    "collapsed": true
   },
   "outputs": [],
   "source": [
    "# query to load data from the patient table\n",
    "query = query_schema + \\\n",
    "\"\"\"\n",
    "SELECT patientunitstayid\n",
    ", COUNT(DISTINCT labname) AS num_distinct_labs\n",
    "FROM lab\n",
    "GROUP BY patientunitstayid\n",
    "\"\"\"\n",
    "\n",
    "df_lab = pd.read_sql_query(query, con)\n",
    "\n",
    "\n",
    "plt.figure(figsize=[12,8])\n",
    "plt.hist(df_lab['num_distinct_labs'], bins=np.linspace(0,160,33))\n",
    "plt.show()"
   ]
  },
  {
   "cell_type": "markdown",
   "metadata": {},
   "source": [
    "## Funnel plot"
   ]
  },
  {
   "cell_type": "code",
   "execution_count": null,
   "metadata": {
    "collapsed": true
   },
   "outputs": [],
   "source": [
    "query = query_schema + \\\n",
    "\"\"\"\n",
    "SELECT pt.patientunitstayid, pt.hospitalid\n",
    ", apr.predictedhospitalmortality as pred\n",
    ", CASE WHEN pt.hospitaldischargestatus = 'Expired' then 1\n",
    "       WHEN pt.hospitaldischargestatus = 'Alive' then 0\n",
    "    else NULL end as target\n",
    "FROM patient pt\n",
    "INNER JOIN apachepatientresult apr\n",
    "ON pt.patientunitstayid = apr.patientunitstayid\n",
    "AND apr.apacheversion = 'IVa'\n",
    "WHERE apr.predictedhospitalmortality != ''\n",
    "AND apr.predictedhospitalmortality IS NOT NULL\n",
    "AND apr.predictedhospitalmortality != '-1'\n",
    "AND pt.hospitaldischargestatus in ('Alive','Expired')\n",
    "\"\"\"\n",
    "\n",
    "df = pd.read_sql_query(query,con)\n",
    "df['pred'] = pd.to_numeric(df['pred'])"
   ]
  },
  {
   "cell_type": "code",
   "execution_count": null,
   "metadata": {
    "collapsed": true
   },
   "outputs": [],
   "source": [
    "# count patients per hospital\n",
    "idx = df.groupby('hospitalid')['patientunitstayid'].count()\n",
    "# isolate to only those with count >= 100\n",
    "idx = idx.index[idx>=100]\n",
    "# create index for df\n",
    "idx = np.in1d(df['hospitalid'],idx)\n",
    "\n",
    "grp = df.loc[idx,:].groupby('hospitalid')\n",
    "\n",
    "plt.figure(figsize=[12,8])\n",
    "plt.plot(grp['patientunitstayid'].count(),\n",
    "         grp['pred'].mean() / grp['target'].mean(),\n",
    "        'o', markersize=8)\n",
    "\n",
    "plt.plot([0,5000],\n",
    "         np.ones(2) * np.mean(grp['pred'].mean() / grp['target'].mean()),\n",
    "        'k--', linewidth=2)\n",
    "plt.show()"
   ]
  },
  {
   "cell_type": "markdown",
   "metadata": {},
   "source": [
    "## Data completion for patientunitstayid\n",
    "\n",
    "Below query returns whether a `patientUnitStayId` is in each table in the database."
   ]
  },
  {
   "cell_type": "code",
   "execution_count": null,
   "metadata": {
    "collapsed": true
   },
   "outputs": [],
   "source": [
    "# query to load data from the patient table\n",
    "query = \"set search_path to eicu_crd_phi; \" + \\\n",
    "\"\"\"\n",
    "SELECT\n",
    "  pt.patientunitstayid, pt.hospitalid\n",
    "  , CASE WHEN adx.patientunitstayid IS NOT NULL then 1 else 0 end as admissionDx\n",
    "  , CASE WHEN adr.patientunitstayid IS NOT NULL then 1 else 0 end as admissionDrug\n",
    "  , CASE WHEN aav.patientunitstayid IS NOT NULL then 1 else 0 end as apacheApsVar\n",
    "  , CASE WHEN apv.patientunitstayid IS NOT NULL then 1 else 0 end as apachePredVar\n",
    "  , CASE WHEN apr.patientunitstayid IS NOT NULL then 1 else 0 end as apachePatientResult\n",
    "  , CASE WHEN cpp.patientunitstayid IS NOT NULL then 1 else 0 end as carePlanCareProvider\n",
    "  , CASE WHEN cpe.patientunitstayid IS NOT NULL then 1 else 0 end as carePlanEOL\n",
    "  , CASE WHEN cpg.patientunitstayid IS NOT NULL then 1 else 0 end as carePlanGeneral\n",
    "  , CASE WHEN cpgl.patientunitstayid IS NOT NULL then 1 else 0 end as carePlanGoal\n",
    "  , CASE WHEN cpi.patientunitstayid IS NOT NULL then 1 else 0 end as carePlanInfectiousDisease\n",
    "  , CASE WHEN di.patientunitstayid IS NOT NULL then 1 else 0 end as diagnosis\n",
    "  , CASE WHEN id.patientunitstayid IS NOT NULL then 1 else 0 end as infusionDrug\n",
    "  , CASE WHEN la.patientunitstayid IS NOT NULL then 1 else 0 end as lab\n",
    "  , CASE WHEN me.patientunitstayid IS NOT NULL then 1 else 0 end as medication\n",
    "  , CASE WHEN pa.patientunitstayid IS NOT NULL then 1 else 0 end as pastHistory\n",
    "  , CASE WHEN tr.patientunitstayid IS NOT NULL then 1 else 0 end as treatment\n",
    "  , CASE WHEN va.patientunitstayid IS NOT NULL then 1 else 0 end as vitalAperiodic\n",
    "  , CASE WHEN vp.patientunitstayid IS NOT NULL then 1 else 0 end as vitalPeriodic\n",
    "FROM patient pt\n",
    "LEFT JOIN (select distinct patientunitstayid from admissiondx) adx\n",
    "    ON pt.patientunitstayid = adx.patientunitstayid\n",
    "LEFT JOIN (select distinct patientunitstayid from admissionDrug) adr\n",
    "    ON pt.patientunitstayid = adr.patientunitstayid\n",
    "LEFT JOIN (select distinct patientunitstayid from apacheapsvar) aav\n",
    "    ON pt.patientunitstayid = aav.patientunitstayid\n",
    "LEFT JOIN (select distinct patientunitstayid from apachepredvar) apv\n",
    "    ON pt.patientunitstayid = apv.patientunitstayid\n",
    "LEFT JOIN (select distinct patientunitstayid from apachepatientresult) apr\n",
    "    ON pt.patientunitstayid = apr.patientunitstayid\n",
    "LEFT JOIN (select distinct patientunitstayid from careplancareprovider) cpp\n",
    "    ON pt.patientunitstayid = cpp.patientunitstayid\n",
    "LEFT JOIN (select distinct patientunitstayid from careplaneol) cpe\n",
    "    ON pt.patientunitstayid = cpe.patientunitstayid\n",
    "LEFT JOIN (select distinct patientunitstayid from careplangeneral) cpg\n",
    "    ON pt.patientunitstayid = cpg.patientunitstayid\n",
    "LEFT JOIN (select distinct patientunitstayid from careplangoal) cpgl\n",
    "    ON pt.patientunitstayid = cpgl.patientunitstayid\n",
    "LEFT JOIN (select distinct patientunitstayid from careplaninfectiousdisease) cpi\n",
    "    ON pt.patientunitstayid = cpi.patientunitstayid\n",
    "LEFT JOIN (select distinct patientunitstayid from diagnosis) di\n",
    "    ON pt.patientunitstayid = di.patientunitstayid\n",
    "LEFT JOIN (select distinct patientunitstayid from infusionDrug) id\n",
    "    ON pt.patientunitstayid = id.patientunitstayid\n",
    "LEFT JOIN (select distinct patientunitstayid from lab) la\n",
    "    ON pt.patientunitstayid = la.patientunitstayid\n",
    "LEFT JOIN (select distinct patientunitstayid from medication) me\n",
    "    ON pt.patientunitstayid = me.patientunitstayid\n",
    "LEFT JOIN (select distinct patientunitstayid from pasthistory) pa\n",
    "    ON pt.patientunitstayid = pa.patientunitstayid\n",
    "LEFT JOIN (select distinct patientunitstayid from treatment) tr\n",
    "    ON pt.patientunitstayid = tr.patientunitstayid\n",
    "LEFT JOIN (select distinct patientunitstayid from vitalaperiodic) va\n",
    "    ON pt.patientunitstayid = va.patientunitstayid\n",
    "LEFT JOIN (select distinct patientunitstayid from vitalperiodic) vp\n",
    "    ON pt.patientunitstayid = vp.patientunitstayid;\n",
    "\"\"\"\n",
    "\n",
    "df = pd.read_sql_query(query,con)"
   ]
  },
  {
   "cell_type": "code",
   "execution_count": null,
   "metadata": {
    "collapsed": true
   },
   "outputs": [],
   "source": [
    "# group by hospital - percent data completion for each table\n",
    "grp = df.groupby('hospitalid')\n",
    "\n",
    "# group into 5 categories:\n",
    "# 0%, 0-20%, 20-60%, 60-80%, 80-100%\n",
    "lower_range = [ -1,  0, 20, 60,  80]\n",
    "upper_range = [  0, 20, 60, 80, 100]\n",
    "grp = grp.mean()*100.0\n",
    "num_hosp = grp.shape[0]\n",
    "\n",
    "df_count = pd.DataFrame(columns=df.columns)\n",
    "df_count.drop(['patientunitstayid', 'hospitalid'], axis=1, inplace=True)\n",
    "for i in range(len(upper_range)):\n",
    "    df_count.loc[i,:] = None\n",
    "    for c in df_count.columns:\n",
    "        num_hosp_in_range=np.sum(\n",
    "            (grp[c] > lower_range[i]) & (grp[c] <= upper_range[i])\n",
    "            )\n",
    "        frac_hosp = float(num_hosp_in_range)/num_hosp*100.0\n",
    "        df_count.loc[i, c] = frac_hosp"
   ]
  },
  {
   "cell_type": "code",
   "execution_count": null,
   "metadata": {
    "collapsed": true
   },
   "outputs": [],
   "source": [
    "# print out pretty\n",
    "print('| Table Name | No data (0%) | Low coverage (0-20%) | Medium coverage (20-60%) | High coverage (60-80%) | Excellent coverage (80-100%) |')\n",
    "print('|:----|:----|:----|:----|:-----|:----|')\n",
    "for i, row in df_count.T.iterrows():\n",
    "    print('| {:25s} |'.format(row.name), end=' ')\n",
    "    for r in row:\n",
    "        print('{:5.2f}'.format(r), end=' | ')\n",
    "    print('')"
   ]
  },
  {
   "cell_type": "markdown",
   "metadata": {},
   "source": [
    "## Figure for a single patient"
   ]
  },
  {
   "cell_type": "code",
   "execution_count": null,
   "metadata": {
    "collapsed": true
   },
   "outputs": [],
   "source": [
    "# select a single ICU stay\n",
    "patientunitstayid = 242505\n",
    "query_schema = 'set search_path to eicu_crd_phi;'"
   ]
  },
  {
   "cell_type": "code",
   "execution_count": null,
   "metadata": {
    "collapsed": true
   },
   "outputs": [],
   "source": [
    "# print APACHE diagnosis for patient\n",
    "query = query_schema + \\\n",
    "\"\"\"\n",
    "SELECT patientunitstayid\n",
    ", apacheadmissiondx as dx\n",
    "FROM patient\n",
    "WHERE patientunitstayid = \"\"\" + str(patientunitstayid) + \"\"\"\n",
    "\"\"\"\n",
    "\n",
    "dx = pd.read_sql_query(query,con)\n",
    "print('Diagnosis: {}'.format(dx.loc[0,'dx']))"
   ]
  },
  {
   "cell_type": "code",
   "execution_count": null,
   "metadata": {
    "collapsed": true
   },
   "outputs": [],
   "source": [
    "# pull lab data\n",
    "query = query_schema + \\\n",
    "\"\"\"\n",
    "SELECT patientunitstayid\n",
    ", labresultoffset as \"offset\"\n",
    ", labname as \"label\"\n",
    ", labresult as \"value\"\n",
    "FROM lab\n",
    "WHERE patientunitstayid = \"\"\" + str(patientunitstayid) + \"\"\"\n",
    "ORDER BY \"offset\"\n",
    "\"\"\"\n",
    "\n",
    "lab = pd.read_sql_query(query,con)\n",
    "lab.head()"
   ]
  },
  {
   "cell_type": "code",
   "execution_count": null,
   "metadata": {
    "collapsed": true
   },
   "outputs": [],
   "source": [
    "# pull meds data\n",
    "query = query_schema + \\\n",
    "\"\"\"\n",
    "SELECT patientunitstayid\n",
    ", drugstartoffset as \"offset\"\n",
    ", drugname as \"label\"\n",
    ", dosage as \"value\"\n",
    "FROM medication\n",
    "WHERE patientunitstayid = \"\"\" + str(patientunitstayid) + \"\"\"\n",
    "AND drugname IS NOT NULL\n",
    "AND dosage IS NOT NULL\n",
    "ORDER BY \"offset\"\n",
    "\"\"\"\n",
    "\n",
    "med = pd.read_sql_query(query,con)\n",
    "med.head()"
   ]
  },
  {
   "cell_type": "code",
   "execution_count": null,
   "metadata": {
    "collapsed": true
   },
   "outputs": [],
   "source": [
    "# pull infusion drug data\n",
    "query = query_schema + \\\n",
    "\"\"\"\n",
    "SELECT patientunitstayid\n",
    ", infusionoffset as \"offset\"\n",
    ", drugname as \"label\"\n",
    ", coalesce(drugrate,infusionrate) as \"value\"\n",
    "FROM infusiondrug\n",
    "WHERE patientunitstayid = \"\"\" + str(patientunitstayid) + \"\"\"\n",
    "AND coalesce(drugrate, infusionrate) IS NOT NULL\n",
    "AND drugname IS NOT NULL\n",
    "ORDER BY \"offset\"\n",
    "\"\"\"\n",
    "\n",
    "inf = pd.read_sql_query(query,con)\n",
    "inf.head()"
   ]
  },
  {
   "cell_type": "code",
   "execution_count": null,
   "metadata": {
    "collapsed": true
   },
   "outputs": [],
   "source": [
    "# pull vitalaperiodic data\n",
    "query = query_schema + \\\n",
    "\"\"\"\n",
    "SELECT patientunitstayid\n",
    ", observationoffset as \"offset\"\n",
    ", noninvasivesystolic sysbp\n",
    ", noninvasivediastolic diasbp\n",
    ", noninvasivemean meanbp\n",
    "FROM vitalaperiodic\n",
    "WHERE patientunitstayid = \"\"\" + str(patientunitstayid) + \"\"\"\n",
    "AND noninvasivemean IS NOT NULL\n",
    "ORDER BY \"offset\"\n",
    "\"\"\"\n",
    "vap = pd.read_sql_query(query,con)\n",
    "vap.head()"
   ]
  },
  {
   "cell_type": "code",
   "execution_count": null,
   "metadata": {
    "collapsed": true
   },
   "outputs": [],
   "source": [
    "# pull vitalperiodic data\n",
    "query = query_schema + \\\n",
    "\"\"\"\n",
    "SELECT patientunitstayid\n",
    ", observationoffset as \"offset\"\n",
    ", systemicsystolic sysbp\n",
    ", systemicdiastolic diasbp\n",
    ", systemicmean meanbp\n",
    ", heartrate\n",
    ", sao2 as spo2\n",
    ", respiration\n",
    "FROM vitalperiodic\n",
    "WHERE patientunitstayid = \"\"\" + str(patientunitstayid) + \"\"\"\n",
    "ORDER BY \"offset\"\n",
    "\"\"\"\n",
    "\n",
    "vp = pd.read_sql_query(query,con)\n",
    "vp.head()"
   ]
  },
  {
   "cell_type": "code",
   "execution_count": null,
   "metadata": {
    "collapsed": true
   },
   "outputs": [],
   "source": [
    "# plot the data\n",
    "\n",
    "# convert from minutes to our time unit here\n",
    "TIME_FACTOR = 1.0/60.0\n",
    "TIME_UNIT = 'hours'\n",
    "\n",
    "plt.figure(figsize=[12,10])\n",
    "plt.plot(vp['offset']*TIME_FACTOR, vp['heartrate'], '--', label='Heart Rate')\n",
    "plt.plot(vap['offset']*TIME_FACTOR, vap['meanbp'], '+--', label='Mean Blood Pressure')\n",
    "plt.plot(vp['offset']*TIME_FACTOR, vp['spo2'], '^--', label='Oxygen Saturation')\n",
    "plt.plot(vp['offset']*TIME_FACTOR, vp['respiration'], 's--', label='Respiration Rate')\n",
    "\n",
    "# Plot infusions as a scaled line\n",
    "infdrg_dict = OrderedDict([\n",
    "        ['Norepinephrine, mcg/min', [145, 'Norepinephrine (mcg/min)', 0, 10 ]]\n",
    "        #['Normal Saline (ml/hr)', [155, 'NS (ml/hr)', 0, 500]]\n",
    "    ])\n",
    "\n",
    "xloc = 0\n",
    "for item in infdrg_dict:\n",
    "    yloc = infdrg_dict[item][0]\n",
    "    label = infdrg_dict[item][1]\n",
    "    plot_lo = infdrg_dict[item][2]\n",
    "    plot_hi = infdrg_dict[item][3]\n",
    "    \n",
    "    scale_data = 10.0/(plot_hi-plot_lo)\n",
    "    plt.text(xloc, yloc, item, fontsize=18, horizontalalignment='right')\n",
    "    # plot the trend over time\n",
    "    df_item = inf.loc[inf['label']==label,:]\n",
    "    # limit to first 2 days\n",
    "    df_item = df_item.loc[df_item['offset']<=(1440*2),:]\n",
    "    scaled_data = df_item['value'].astype(float)\n",
    "    # shift low to 0\n",
    "    scaled_data = scaled_data - plot_lo\n",
    "    # shift high to 1\n",
    "    scaled_data = scaled_data / plot_hi\n",
    "    # move up to [yloc, yloc+5]\n",
    "    scaled_data = (scaled_data)*5.0 + yloc\n",
    "    \n",
    "    plt.plot( df_item['offset']*TIME_FACTOR, scaled_data, 'o--', label='_nolegend_' )\n",
    "\n",
    "# Plot medication as a single marker indicating start time\n",
    "med_dict = OrderedDict([\n",
    "        ['Normal Saline, 1000 mL bag', [155, 'SODIUM CHLORIDE 0.9% 1,000 ML BAG']]\n",
    "        #['Normal Saline (ml/hr)', [155, 'NS (ml/hr)', 0, 500]]\n",
    "    ])\n",
    "\n",
    "# plot a single marker for each instance - regardless of the value of the instance\n",
    "xloc = 0\n",
    "for item in med_dict:\n",
    "    yloc = med_dict[item][0]\n",
    "    label = med_dict[item][1]\n",
    "    plt.text(xloc, yloc, item, fontsize=18, horizontalalignment='right')\n",
    "    \n",
    "    df_item = med.loc[med['label']==label,:]\n",
    "    \n",
    "    # limit to first 2 days\n",
    "    df_item = df_item.loc[(df_item['offset']>0) & (df_item['offset']<=(1440*2)),:]\n",
    "    \n",
    "    plt.plot( df_item['offset']*TIME_FACTOR, (yloc+2.0)*np.ones(df_item.shape[0]), 'o',\n",
    "             label='_nolegend_' )\n",
    "\n",
    "# Plot labs as text on the plot\n",
    "labs = OrderedDict([\n",
    "        ['White blood cell, K/uL', [ 165, 'WBC x 1000' ]],\n",
    "        #['Troponin, g/dL', [175, 'troponin - I']],\n",
    "        ['Lactate, mmol/L', [175, 'lactate']],\n",
    "        ['PaO2, mmHg', [185, 'paO2']],\n",
    "        ['Creatinine, mg/dL', [195, 'creatinine']]\n",
    "    ])\n",
    "\n",
    "xloc = 0\n",
    "for l in labs:\n",
    "    yloc = labs[l][0]\n",
    "    label = labs[l][1]\n",
    "    \n",
    "    # plot the trend over time\n",
    "    df_item = lab.loc[lab['label']==label,:]\n",
    "    # limit to first 2 days\n",
    "    df_item = df_item.loc[(df_item['offset']<=(1440*2)) & (df_item['offset']>0),:]\n",
    "    \n",
    "    plt.text(xloc, yloc, l, fontsize=18, horizontalalignment='right')\n",
    "    for i, row in df_item.iterrows():\n",
    "            plt.text(row['offset']*TIME_FACTOR, yloc, row['value'],\n",
    "                     fontsize=16, label='_nolegend_') \n",
    "\n",
    "plt.yticks(np.arange(0, 120, 20))\n",
    "plt.xticks(np.arange(0, 48.01, 12))\n",
    "plt.xlim([0,48])\n",
    "plt.ylim([0,200])\n",
    "plt.xlabel('Time since unit admission (' + TIME_UNIT + ')')\n",
    "plt.legend(loc='lower right')\n",
    "plt.show()"
   ]
  }
 ],
 "metadata": {
  "kernelspec": {
   "display_name": "Python 2",
   "language": "python",
   "name": "python2"
  },
  "language_info": {
   "codemirror_mode": {
    "name": "ipython",
    "version": 2
   },
   "file_extension": ".py",
   "mimetype": "text/x-python",
   "name": "python",
   "nbconvert_exporter": "python",
   "pygments_lexer": "ipython2",
   "version": "2.7.12"
  }
 },
 "nbformat": 4,
 "nbformat_minor": 2
}
